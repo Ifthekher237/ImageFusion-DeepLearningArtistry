{
 "cells": [
  {
   "cell_type": "code",
   "execution_count": null,
   "id": "8fe7721c",
   "metadata": {},
   "outputs": [],
   "source": [
    "from PIL import Image\n",
    "import os\n",
    "from random import randint\n",
    "import numpy as np\n",
    "import matplotlib.pyplot as plt"
   ]
  },
  {
   "cell_type": "code",
   "execution_count": null,
   "id": "6452725f",
   "metadata": {},
   "outputs": [],
   "source": [
    "img_folder = 'F:/DL/val2014/'\n",
    "imgs = os.listdir(img_folder)\n",
    "\n",
    "batch_x = []\n",
    "\n",
    "# Loop through the selected images (index 10 to 19) and process each one\n",
    "for p in imgs[10:20]:\n",
    "    # Construct the full path to the image\n",
    "    img_path = os.path.join(img_folder, p)\n",
    "    \n",
    "    # Open the image\n",
    "    img = Image.open(img_path)\n",
    "    \n",
    "    # Resize the image to (224, 224) to  have all the images a consistent dimension\n",
    "    img = img.resize((224, 224))\n",
    "    \n",
    "    # Append the resized image to the batch_x list\n",
    "    batch_x.append(img)\n",
    "\n",
    "#we could have done the same thing using list comprehension\n",
    "# batch_x = [Image.open(img_folder + p).resize((224,224)) for p in imgs[10:20]]"
   ]
  },
  {
   "cell_type": "markdown",
   "id": "6528dc77",
   "metadata": {},
   "source": [
    "So we have taken only 10 images."
   ]
  },
  {
   "cell_type": "code",
   "execution_count": null,
   "id": "79e91ee7",
   "metadata": {},
   "outputs": [],
   "source": [
    "batch_x[0] #first image of our considered batch"
   ]
  },
  {
   "cell_type": "code",
   "execution_count": null,
   "id": "5d8ea9c6",
   "metadata": {},
   "outputs": [],
   "source": [
    "def normalize_image(x): # to scale and shift the pixel values to bring them to a standard range. \n",
    "    x = x / np.max(x)   #maximum pixel value is 255\n",
    "    mean = np.array([0.485, 0.456, 0.406])\n",
    "    std = np.array([0.229, 0.224, 0.225])\n",
    "    return (x-mean) / std"
   ]
  },
  {
   "cell_type": "markdown",
   "id": "e7cf3545",
   "metadata": {},
   "source": [
    "The values [0.485, 0.456, 0.406] represent the mean pixel values, and [0.229, 0.224, 0.225] represent the standard deviation of the pixel values calculated from the ImageNet dataset. Since ImageNet is a widely used dataset for training deep learning models, these values have been determined empirically for ImageNet images.\n",
    "\n",
    "The reason there are three values in the mean and standard deviation arrays is because most images used in deep learning are in color and are represented as Red, Green, and Blue (RGB) channels.\n",
    "\n",
    "However, it's important to note that these values are not universal and may not be optimal for every dataset or task. Depending on your specific use case, you may need to calculate the mean and standard deviation from your own dataset if it differs significantly from ImageNet. Nonetheless, using these values as a starting point is a common practice, and you can adjust them based on your needs."
   ]
  },
  {
   "cell_type": "code",
   "execution_count": null,
   "id": "b9f2c25c",
   "metadata": {},
   "outputs": [],
   "source": [
    "def denormalize_image(x):\n",
    "    mean = np.array([0.485, 0.456, 0.406])\n",
    "    std = np.array([0.229, 0.224, 0.225])\n",
    "    x = std*x + mean\n",
    "    x = np.clip(x, 0 , 1)\n",
    "    return x"
   ]
  },
  {
   "cell_type": "markdown",
   "id": "0069258d",
   "metadata": {},
   "source": [
    "x = std*x + mean: This line denormalizes the input image x. It multiplies each channel of the image by the corresponding standard deviation (std) and then adds the corresponding mean (mean) to each channel. This reverses the normalization process that was applied to the image.\n",
    "\n",
    "x = np.clip(x, 0 , 1): After denormalization, this line clips the pixel values of the image x to ensure that they fall within the range [0, 1]. This is done to make sure that the pixel values are valid and don't go below 0 or above 1, which is the typical range for image data"
   ]
  },
  {
   "cell_type": "code",
   "execution_count": null,
   "id": "9cfb338f",
   "metadata": {},
   "outputs": [],
   "source": [
    "lam = 0.65\n",
    "batch_size = len(batch_x)"
   ]
  },
  {
   "cell_type": "code",
   "execution_count": null,
   "id": "788bd044",
   "metadata": {},
   "outputs": [],
   "source": [
    "current_image = normalize_image(np.array(batch_x[0]))  #this is the image that we picked"
   ]
  },
  {
   "cell_type": "code",
   "execution_count": null,
   "id": "04aaad9e",
   "metadata": {},
   "outputs": [],
   "source": [
    "current_image.shape"
   ]
  },
  {
   "cell_type": "markdown",
   "id": "6c8fac7e",
   "metadata": {},
   "source": [
    "if we worked with PyTorch, then the shape would be (3, 224, 224)"
   ]
  },
  {
   "cell_type": "code",
   "execution_count": null,
   "id": "a3af3ffe",
   "metadata": {},
   "outputs": [],
   "source": [
    "plt.imshow(denormalize_image(current_image))  #to show the image, we need to denormalize again\n",
    "plt.axis(\"off\")"
   ]
  },
  {
   "cell_type": "code",
   "execution_count": null,
   "id": "9e62d2fb",
   "metadata": {},
   "outputs": [],
   "source": [
    "random_index = randint(0, batch_size - 1)\n",
    "random_image_from_batch = normalize_image(np.array(batch_x[random_index]))\n",
    "#this is the image that is randomly picked and want to mix it up with our true image"
   ]
  },
  {
   "cell_type": "code",
   "execution_count": null,
   "id": "43a62243",
   "metadata": {},
   "outputs": [],
   "source": [
    "plt.imshow(denormalize_image(random_image_from_batch))\n",
    "plt.axis(\"off\")"
   ]
  },
  {
   "cell_type": "code",
   "execution_count": null,
   "id": "5c5fd49c",
   "metadata": {},
   "outputs": [],
   "source": [
    "#this is the formula for mixing the images\n",
    "mixed_image = lam * current_image + (1 - lam) * random_image_from_batch"
   ]
  },
  {
   "cell_type": "code",
   "execution_count": null,
   "id": "dc5128f3",
   "metadata": {
    "scrolled": true
   },
   "outputs": [],
   "source": [
    "plt.imshow(denormalize_image(mixed_image))\n",
    "plt.axis(\"off\")"
   ]
  },
  {
   "cell_type": "markdown",
   "id": "022f4ca8",
   "metadata": {},
   "source": [
    "we are going to feed this image to the network, not the \"current image\" or \"random image\""
   ]
  },
  {
   "cell_type": "markdown",
   "id": "23c6d7b5",
   "metadata": {},
   "source": [
    "Now for label, for the sake of explanation consider first image as \"water\" and second image as \"person\"\n",
    "if we take lambda=0.7, then 0.7 for the first image label and 0.3 for second image label. Our labels are not one-hot vector anymore."
   ]
  },
  {
   "cell_type": "markdown",
   "id": "25bf3bc0",
   "metadata": {},
   "source": [
    "Loss = lambda*XE(pred,y_a)+(1-lambda)*XE(pred,y_b)\n",
    "\n",
    "pred = predicted image label for \"current image\".\n",
    "y_a = true image label for \"current image\".\n",
    "\n",
    "\n",
    "pred = predicted image label for \"random image\".\n",
    "y_b = true image label for \"random image\".\n"
   ]
  },
  {
   "cell_type": "code",
   "execution_count": null,
   "id": "f7ca8a0d",
   "metadata": {},
   "outputs": [],
   "source": []
  },
  {
   "cell_type": "code",
   "execution_count": null,
   "id": "fbbd4d76",
   "metadata": {},
   "outputs": [],
   "source": []
  },
  {
   "cell_type": "code",
   "execution_count": null,
   "id": "3680c82d",
   "metadata": {},
   "outputs": [],
   "source": []
  },
  {
   "cell_type": "code",
   "execution_count": null,
   "id": "1678df78",
   "metadata": {},
   "outputs": [],
   "source": []
  },
  {
   "cell_type": "code",
   "execution_count": null,
   "id": "b486c7fb",
   "metadata": {},
   "outputs": [],
   "source": []
  },
  {
   "cell_type": "code",
   "execution_count": null,
   "id": "6a437c9b",
   "metadata": {},
   "outputs": [],
   "source": []
  },
  {
   "cell_type": "code",
   "execution_count": null,
   "id": "89c82a3e",
   "metadata": {},
   "outputs": [],
   "source": []
  }
 ],
 "metadata": {
  "kernelspec": {
   "display_name": "Python 3 (ipykernel)",
   "language": "python",
   "name": "python3"
  },
  "language_info": {
   "codemirror_mode": {
    "name": "ipython",
    "version": 3
   },
   "file_extension": ".py",
   "mimetype": "text/x-python",
   "name": "python",
   "nbconvert_exporter": "python",
   "pygments_lexer": "ipython3",
   "version": "3.10.9"
  }
 },
 "nbformat": 4,
 "nbformat_minor": 5
}
